{
 "cells": [
  {
   "cell_type": "code",
   "execution_count": 1,
   "metadata": {},
   "outputs": [],
   "source": [
    "import numpy as np\n",
    "import pandas as pd\n",
    "import matplotlib.pyplot as plt\n",
    "import seaborn as sns\n",
    "import warnings\n",
    "from sklearn.preprocessing import StandardScaler\n",
    "from sklearn.model_selection import train_test_split \n",
    "from sklearn.ensemble import RandomForestRegressor as RF\n",
    "from sklearn.metrics import r2_score as r2\n",
    "\n",
    "warnings.filterwarnings('ignore')\n",
    "%matplotlib inline\n",
    "pd.options.display.max_columns = 100"
   ]
  },
  {
   "cell_type": "markdown",
   "metadata": {},
   "source": [
    "# Подготовка данных"
   ]
  },
  {
   "cell_type": "code",
   "execution_count": 2,
   "metadata": {},
   "outputs": [],
   "source": [
    "def fill_Floor(df):\n",
    "    df.loc[(df['Floor'] == 0), 'Floor'] = 1\n",
    "    df.loc[(df['HouseFloor'] == 0), 'HouseFloor'] = df['Floor']\n",
    "    df['Floor_rel'] = df['Floor'] / df['HouseFloor']\n",
    "    df.loc[df['HouseYear'] > 2020, 'HouseYear'] = df['HouseYear'].median()\n",
    "    df.loc[df['HouseYear'] < 1900, 'HouseYear'] = df['HouseYear'].median()\n",
    "    return df\n",
    "\n",
    "def clean_rooms(df, source_df):\n",
    "    rooms_median = source_df['Rooms'].median()\n",
    "    df.loc[df['Rooms'] >= 6, 'Rooms'] = rooms_median\n",
    "    return df\n",
    "\n",
    "def clean_square(df, source_df):\n",
    "    square_room = source_df.groupby(['Rooms'], as_index=False)['Square'].median()\n",
    "    square_room = square_room.rename(columns={'Square':'Square_ref'})\n",
    "    df = pd.merge(df, square_room, on='Rooms', how='left')\n",
    "    df.loc[df['Square_ref'].isnull(), 'Square_ref'] = df['Square']\n",
    "    df.loc[df['Square'] < 0.5 * df['Square_ref'], 'Square'] = df['Square_ref']\n",
    "    df.loc[df['Square'] > 2 * df['Square_ref'], 'Square'] = df['Square_ref']\n",
    "    return df\n",
    "\n",
    "def dist_price(df, source_df):\n",
    "    room_dist = source_df.groupby(['DistrictId', 'Rooms'], as_index=False)['Price'].mean()\n",
    "    room_dist = room_dist.rename(columns={'Price':'price_by_district'})\n",
    "    room_mean = source_df.groupby(['Rooms'], as_index=False)['Price'].mean()\n",
    "    room_mean = room_mean.rename(columns={'Price':'price_by_rooms'})\n",
    "    df = pd.merge(df, room_dist, on=['DistrictId', 'Rooms'], how='left')\n",
    "    df = pd.merge(df, room_mean, on='Rooms', how='left')\n",
    "    df.loc[df['price_by_rooms'].isnull(), 'price_by_rooms'] = room_mean.loc[room_mean['Rooms']==4, \n",
    "                                                                          'price_by_rooms'].values[0]\n",
    "    df.loc[df['price_by_district'].isnull(), 'price_by_district'] = df['price_by_rooms']\n",
    "    return df\n",
    "\n",
    "def other_features(df):\n",
    "    df.loc[df['Ecology_2']=='A', 'Ecology_2'] = 1\n",
    "    df.loc[df['Ecology_2']=='B', 'Ecology_2'] = 2\n",
    "    df = pd.get_dummies(df)\n",
    "    return df"
   ]
  },
  {
   "cell_type": "code",
   "execution_count": 3,
   "metadata": {},
   "outputs": [],
   "source": [
    "def prepare_data(df, source_df):\n",
    "    df = fill_Floor(df)\n",
    "    df = clean_rooms(df, source_df)\n",
    "    df = clean_square(df, source_df)\n",
    "    df = dist_price(df, source_df)\n",
    "    df = other_features(df)\n",
    "    return df\n"
   ]
  },
  {
   "cell_type": "code",
   "execution_count": 4,
   "metadata": {},
   "outputs": [],
   "source": [
    "data = pd.read_csv('train.csv')\n",
    "data = prepare_data(data, data)"
   ]
  },
  {
   "cell_type": "code",
   "execution_count": 5,
   "metadata": {},
   "outputs": [],
   "source": [
    "train, valid = train_test_split(data, test_size=0.3, random_state=28)"
   ]
  },
  {
   "cell_type": "markdown",
   "metadata": {},
   "source": [
    "# Модель и ее валидация"
   ]
  },
  {
   "cell_type": "markdown",
   "metadata": {},
   "source": [
    "Выбираем целевую переменную и признаки.\n",
    "Логарифм цены в качестве целевой переменной плохо себя показал.\n",
    "Параметры, которые имеют объектные значения можно не учитывать - на точность практически не влияет.\n",
    "Вместо этажа используем относительный этаж, вместо района - среднюю цену по району."
   ]
  },
  {
   "cell_type": "code",
   "execution_count": 6,
   "metadata": {},
   "outputs": [],
   "source": [
    "target = ['Price']\n",
    "features = ['Floor_rel', 'Ecology_1', 'Ecology_2', 'HouseYear', 'Social_1', 'Social_2', \n",
    "            'Social_3','Shops_1',  'price_by_district',  'Square', 'HouseFloor', 'price_by_rooms']"
   ]
  },
  {
   "cell_type": "markdown",
   "metadata": {},
   "source": [
    "Линейная регрессия показала себя хуже. Параметры подбирал через GridSearch"
   ]
  },
  {
   "cell_type": "code",
   "execution_count": 7,
   "metadata": {},
   "outputs": [],
   "source": [
    "model = RF(n_estimators=150, max_depth=8, max_features=8, random_state=1);\n",
    "model.fit(train.loc[:, features], train.loc[:, target]);\n",
    "pred_train = model.predict(train.loc[:, features]);\n",
    "pred_valid = model.predict(valid.loc[:, features]);"
   ]
  },
  {
   "cell_type": "code",
   "execution_count": 8,
   "metadata": {},
   "outputs": [
    {
     "data": {
      "text/plain": [
       "0.8347854178175511"
      ]
     },
     "execution_count": 8,
     "metadata": {},
     "output_type": "execute_result"
    }
   ],
   "source": [
    "r2(train['Price'], (pred_train) )"
   ]
  },
  {
   "cell_type": "code",
   "execution_count": 9,
   "metadata": {},
   "outputs": [
    {
     "data": {
      "text/plain": [
       "0.7449915963954594"
      ]
     },
     "execution_count": 9,
     "metadata": {},
     "output_type": "execute_result"
    }
   ],
   "source": [
    "r2(valid['Price'], (pred_valid) )"
   ]
  },
  {
   "cell_type": "code",
   "execution_count": 10,
   "metadata": {},
   "outputs": [],
   "source": [
    "model.fit(train.loc[:, features], train.loc[:, target]);"
   ]
  },
  {
   "cell_type": "markdown",
   "metadata": {},
   "source": [
    "# Обработка тестовых данных"
   ]
  },
  {
   "cell_type": "code",
   "execution_count": 11,
   "metadata": {},
   "outputs": [],
   "source": [
    "test = pd.read_csv('test.csv')"
   ]
  },
  {
   "cell_type": "code",
   "execution_count": 12,
   "metadata": {},
   "outputs": [],
   "source": [
    "test = prepare_data(test, data)"
   ]
  },
  {
   "cell_type": "code",
   "execution_count": 13,
   "metadata": {},
   "outputs": [],
   "source": [
    "test['Price'] = model.predict(test.loc[:, features])"
   ]
  },
  {
   "cell_type": "code",
   "execution_count": 14,
   "metadata": {},
   "outputs": [],
   "source": [
    "test.loc[:, ['Id', 'Price']].to_csv('ANebavskiy_predictions.csv', index=False)"
   ]
  }
 ],
 "metadata": {
  "kernelspec": {
   "display_name": "Python 3",
   "language": "python",
   "name": "python3"
  },
  "language_info": {
   "codemirror_mode": {
    "name": "ipython",
    "version": 3
   },
   "file_extension": ".py",
   "mimetype": "text/x-python",
   "name": "python",
   "nbconvert_exporter": "python",
   "pygments_lexer": "ipython3",
   "version": "3.7.1"
  }
 },
 "nbformat": 4,
 "nbformat_minor": 2
}
